{
 "cells": [
  {
   "cell_type": "code",
   "execution_count": null,
   "id": "6615d411",
   "metadata": {},
   "outputs": [],
   "source": [
    "sample = [[80, 75, 70, 85, 65, 78]]  # custom player's stats\n",
    "print(\"Predicted Overall Rating:\", model.predict(sample)[0])  # Ensure the cell defining 'model' is executed first\n"
   ]
  },
  {
   "cell_type": "code",
   "execution_count": null,
   "id": "abe78a38",
   "metadata": {},
   "outputs": [],
   "source": [
    "from sklearn.impute import SimpleImputer\n",
    "\n",
    "model = LinearRegression()\n",
    "# Handle missing values in X_train and X_test\n",
    "imputer = SimpleImputer(strategy='mean')\n",
    "X_train = imputer.fit_transform(X_train)\n",
    "X_test = imputer.transform(X_test)\n",
    "\n",
    "model.fit(X_train, y_train)\n",
    "\n",
    "predictions = model.predict(X_test)\n",
    "mse = mean_squared_error(y_test, predictions)\n",
    "print(\"Mean Squared Error:\", mse)\n"
   ]
  },
  {
   "cell_type": "code",
   "execution_count": 40,
   "id": "ced31816",
   "metadata": {},
   "outputs": [],
   "source": [
    "X = df[['pace', 'shooting', 'passing', 'dribbling', 'defending', 'physic']]\n",
    "y = df['overall']\n",
    "\n",
    "X_train, X_test, y_train, y_test = train_test_split(X, y, test_size=0.2)\n"
   ]
  },
  {
   "cell_type": "code",
   "execution_count": null,
   "id": "9d42500b",
   "metadata": {},
   "outputs": [],
   "source": [
    "plt.figure(figsize=(10,6))\n",
    "sns.heatmap(df.corr(numeric_only=True), annot=True, cmap='coolwarm')\n",
    "plt.title(\"Feature Correlation with Overall Rating\")\n",
    "plt.show()\n"
   ]
  },
  {
   "cell_type": "code",
   "execution_count": null,
   "id": "086b51d3",
   "metadata": {},
   "outputs": [],
   "source": [
    "top_players = df.sort_values(by='overall', ascending=False).head(10)\n",
    "sns.barplot(x='overall', y='short_name', data=top_players)\n",
    "plt.title(\"Top 10 FIFA Players by Rating\")\n",
    "plt.show()\n"
   ]
  },
  {
   "cell_type": "code",
   "execution_count": null,
   "id": "b8afffa2",
   "metadata": {},
   "outputs": [],
   "source": [
    "df = df[['short_name', 'age', 'club_name', 'overall', 'potential',\n",
    "         'value_eur', 'wage_eur', 'player_positions', 'pace', 'shooting', 'passing',\n",
    "         'dribbling', 'defending', 'physic']]\n",
    "\n",
    "df.dropna(inplace=True)\n",
    "df.head()\n"
   ]
  },
  {
   "cell_type": "code",
   "execution_count": null,
   "id": "ec7d5ee1",
   "metadata": {},
   "outputs": [],
   "source": [
    "df = pd.read_csv(\"players_22.csv\")\n",
    "df.head()\n"
   ]
  },
  {
   "cell_type": "code",
   "execution_count": 45,
   "id": "2fdd8334",
   "metadata": {},
   "outputs": [],
   "source": [
    "import pandas as pd\n",
    "import matplotlib.pyplot as plt\n",
    "import seaborn as sns\n",
    "\n",
    "from sklearn.model_selection import train_test_split\n",
    "from sklearn.linear_model import LinearRegression\n",
    "from sklearn.metrics import mean_squared_error\n"
   ]
  }
 ],
 "metadata": {
  "kernelspec": {
   "display_name": "Python 3",
   "language": "python",
   "name": "python3"
  },
  "language_info": {
   "codemirror_mode": {
    "name": "ipython",
    "version": 3
   },
   "file_extension": ".py",
   "mimetype": "text/x-python",
   "name": "python",
   "nbconvert_exporter": "python",
   "pygments_lexer": "ipython3",
   "version": "3.10.8"
  }
 },
 "nbformat": 4,
 "nbformat_minor": 5
}
